{
 "cells": [
  {
   "cell_type": "code",
   "execution_count": 1,
   "metadata": {
    "_uuid": "03be53ec26b07d547e9959f132a8673c605dc0d3"
   },
   "outputs": [],
   "source": []
  },
  {
   "cell_type": "code",
   "execution_count": 1,
   "metadata": {
    "_cell_guid": "b1076dfc-b9ad-4769-8c92-a6c4dae69d19",
    "_kg_hide-input": true,
    "_kg_hide-output": true,
    "_uuid": "8f2839f25d086af736a60e9eeb907d3b93b6e0e5"
   },
   "outputs": [
    {
     "name": "stdout",
     "output_type": "stream",
     "text": [
      "['dnn-model', 'new-york-city-taxi-fare-prediction', 'submisiion-nyc-taxi']\n"
     ]
    }
   ],
   "source": [
    "# This Python 3 environment comes with many helpful analytics libraries installed\n",
    "# It is defined by the kaggle/python docker image: https://github.com/kaggle/docker-python\n",
    "# For example, here's several helpful packages to load in \n",
    "\n",
    "import numpy as np # linear algebra\n",
    "import pandas as pd # data processing, CSV file I/O (e.g. pd.read_csv)\n",
    "import re\n",
    "# Input data files are available in the \"../input/\" directory.\n",
    "# For example, running this (by clicking run or pressing Shift+Enter) will list the files in the input directory\n",
    "import tensorflow as tf\n",
    "import os\n",
    "print(os.listdir(\"../input\"))\n",
    "\n",
    "# Any results you write to the current directory are saved as output."
   ]
  },
  {
   "cell_type": "code",
   "execution_count": 2,
   "metadata": {
    "_cell_guid": "79c7e3d0-c299-4dcb-8224-4455121ee9b0",
    "_uuid": "d629ff2d2480ee46fbb7e2d37f6b5fab8052498a"
   },
   "outputs": [
    {
     "data": {
      "text/plain": [
       "['model_.ckpt.meta',\n",
       " 'model_.ckpt.index',\n",
       " 'model_.ckpt.data-00000-of-00001',\n",
       " 'checkpoint']"
      ]
     },
     "execution_count": 2,
     "metadata": {},
     "output_type": "execute_result"
    }
   ],
   "source": [
    "os.listdir(\"../input/dnn-model\")"
   ]
  },
  {
   "cell_type": "code",
   "execution_count": 3,
   "metadata": {
    "_uuid": "e4a04442ef559f790f5dc187123e93685a7bc621"
   },
   "outputs": [],
   "source": [
    "df_test=pd.read_csv(\"../input/new-york-city-taxi-fare-prediction/test.csv\")"
   ]
  },
  {
   "cell_type": "code",
   "execution_count": 4,
   "metadata": {
    "_uuid": "9c4b6a88800eff34d95fb5d4d649c3cc714e8799"
   },
   "outputs": [
    {
     "data": {
      "text/html": [
       "<div>\n",
       "<style scoped>\n",
       "    .dataframe tbody tr th:only-of-type {\n",
       "        vertical-align: middle;\n",
       "    }\n",
       "\n",
       "    .dataframe tbody tr th {\n",
       "        vertical-align: top;\n",
       "    }\n",
       "\n",
       "    .dataframe thead th {\n",
       "        text-align: right;\n",
       "    }\n",
       "</style>\n",
       "<table border=\"1\" class=\"dataframe\">\n",
       "  <thead>\n",
       "    <tr style=\"text-align: right;\">\n",
       "      <th></th>\n",
       "      <th>key</th>\n",
       "      <th>pickup_datetime</th>\n",
       "      <th>pickup_longitude</th>\n",
       "      <th>pickup_latitude</th>\n",
       "      <th>dropoff_longitude</th>\n",
       "      <th>dropoff_latitude</th>\n",
       "      <th>passenger_count</th>\n",
       "    </tr>\n",
       "  </thead>\n",
       "  <tbody>\n",
       "    <tr>\n",
       "      <th>0</th>\n",
       "      <td>2015-01-27 13:08:24.0000002</td>\n",
       "      <td>2015-01-27 13:08:24 UTC</td>\n",
       "      <td>-73.973320</td>\n",
       "      <td>40.763805</td>\n",
       "      <td>-73.981430</td>\n",
       "      <td>40.743835</td>\n",
       "      <td>1</td>\n",
       "    </tr>\n",
       "    <tr>\n",
       "      <th>1</th>\n",
       "      <td>2015-01-27 13:08:24.0000003</td>\n",
       "      <td>2015-01-27 13:08:24 UTC</td>\n",
       "      <td>-73.986862</td>\n",
       "      <td>40.719383</td>\n",
       "      <td>-73.998886</td>\n",
       "      <td>40.739201</td>\n",
       "      <td>1</td>\n",
       "    </tr>\n",
       "    <tr>\n",
       "      <th>2</th>\n",
       "      <td>2011-10-08 11:53:44.0000002</td>\n",
       "      <td>2011-10-08 11:53:44 UTC</td>\n",
       "      <td>-73.982524</td>\n",
       "      <td>40.751260</td>\n",
       "      <td>-73.979654</td>\n",
       "      <td>40.746139</td>\n",
       "      <td>1</td>\n",
       "    </tr>\n",
       "    <tr>\n",
       "      <th>3</th>\n",
       "      <td>2012-12-01 21:12:12.0000002</td>\n",
       "      <td>2012-12-01 21:12:12 UTC</td>\n",
       "      <td>-73.981160</td>\n",
       "      <td>40.767807</td>\n",
       "      <td>-73.990448</td>\n",
       "      <td>40.751635</td>\n",
       "      <td>1</td>\n",
       "    </tr>\n",
       "    <tr>\n",
       "      <th>4</th>\n",
       "      <td>2012-12-01 21:12:12.0000003</td>\n",
       "      <td>2012-12-01 21:12:12 UTC</td>\n",
       "      <td>-73.966046</td>\n",
       "      <td>40.789775</td>\n",
       "      <td>-73.988565</td>\n",
       "      <td>40.744427</td>\n",
       "      <td>1</td>\n",
       "    </tr>\n",
       "  </tbody>\n",
       "</table>\n",
       "</div>"
      ],
      "text/plain": [
       "                           key       ...       passenger_count\n",
       "0  2015-01-27 13:08:24.0000002       ...                     1\n",
       "1  2015-01-27 13:08:24.0000003       ...                     1\n",
       "2  2011-10-08 11:53:44.0000002       ...                     1\n",
       "3  2012-12-01 21:12:12.0000002       ...                     1\n",
       "4  2012-12-01 21:12:12.0000003       ...                     1\n",
       "\n",
       "[5 rows x 7 columns]"
      ]
     },
     "execution_count": 4,
     "metadata": {},
     "output_type": "execute_result"
    }
   ],
   "source": [
    "df_test.head()"
   ]
  },
  {
   "cell_type": "markdown",
   "metadata": {
    "_uuid": "1088b824e0719b6a402486ee68f215ff02aa9c99"
   },
   "source": [
    "Functions used"
   ]
  },
  {
   "cell_type": "code",
   "execution_count": 5,
   "metadata": {
    "_uuid": "29fecb424d346a0191975402aa5fe942c1914e3c"
   },
   "outputs": [],
   "source": [
    "def add_datepart(df, fldname, drop=True):\n",
    "    fld = df[fldname]\n",
    "    if not np.issubdtype(fld.dtype, np.datetime64):\n",
    "        df[fldname] = fld = pd.to_datetime(fld, infer_datetime_format=True)\n",
    "    targ_pre = re.sub('[Dd]ate$', '', fldname)\n",
    "    #print(targ_pre)\n",
    "    for n in ('Year', 'Month', 'Week', 'Day', 'Dayofweek', 'Dayofyear','hour',\n",
    "            'Is_month_end', 'Is_month_start', 'Is_quarter_end', 'Is_quarter_start', 'Is_year_end', 'Is_year_start'):\n",
    "        df[targ_pre+n] = getattr(fld.dt,n.lower())\n",
    "        \n",
    "    df[targ_pre+'Elapsed'] = fld.astype(np.int64) // 10**9\n",
    "    if drop: df.drop(fldname, axis=1, inplace=True)\n",
    "        \n",
    "###Harv Distance        \n",
    "def distance( data):\n",
    "\n",
    "    radius = 6371 # km\n",
    "    lon1=data[:,0]\n",
    "    lat1=data[:,1]\n",
    "    lon2=data[:,2]\n",
    "    lat2=data[:,3]\n",
    "    #print(lat2-lat1)\n",
    "    dlat = np.radians(lat2-lat1)\n",
    "    dlon = np.radians(lon2-lon1)\n",
    "    a = np.sin(dlat/2) * np.sin(dlat/2) + np.cos(np.radians(lat1)) \\\n",
    "            * np.cos(np.radians(lat2)) * np.sin(dlon/2) * np.sin(dlon/2)\n",
    "    c = 2 * np.arctan(np.sqrt(a), np.sqrt(1-a))\n",
    "    d = radius * c\n",
    "\n",
    "    return d"
   ]
  },
  {
   "cell_type": "code",
   "execution_count": 6,
   "metadata": {
    "_uuid": "ea497db8868fb1f381e8d1471cc47f26dc6bf049"
   },
   "outputs": [],
   "source": [
    "he_init = tf.contrib.layers.variance_scaling_initializer()\n",
    "\n",
    "def dnn(inputs,training, n_hidden_layers=8, name=None,\n",
    "        activation=tf.nn.relu, initializer=he_init):\n",
    "    n_neurons=[2000,1000,500,250,125,50,25,10]\n",
    " \n",
    "    with tf.variable_scope(name, \"dnn\"):\n",
    "        for layer in range(n_hidden_layers):\n",
    "            \n",
    "            \n",
    "       \n",
    "            inputs = tf.layers.dense(inputs, n_neurons[layer],\n",
    "                                     kernel_initializer=initializer,\n",
    "                                     name=\"hidden%d\" % (layer + 1))\n",
    "        \n",
    "\n",
    "            inputs=tf.nn.relu(inputs, name=\"hidden%d_out\" % (layer + 1))\n",
    "        \n",
    "        return inputs"
   ]
  },
  {
   "cell_type": "code",
   "execution_count": 7,
   "metadata": {
    "_uuid": "2ec8d273695df54426a70ecdf0010c1c8675a204"
   },
   "outputs": [],
   "source": [
    "df_test['Herv_Dist'] =distance(np.float64(df_test.values[:,2:6]))"
   ]
  },
  {
   "cell_type": "code",
   "execution_count": 8,
   "metadata": {
    "_uuid": "8dd9045e857ab69cbae978317a4cbf8ec8d72f56"
   },
   "outputs": [],
   "source": [
    "add_datepart(df_test, 'pickup_datetime', drop=True)"
   ]
  },
  {
   "cell_type": "code",
   "execution_count": 9,
   "metadata": {
    "_uuid": "11078cf6468da203605086a9585389bd0d6ae089"
   },
   "outputs": [],
   "source": [
    "feature_cols=['pickup_longitude', 'pickup_latitude', 'dropoff_longitude',\n",
    "       'dropoff_latitude', 'passenger_count', 'pickup_datetimeYear',\n",
    "       'pickup_datetimeMonth', 'pickup_datetimeWeek', 'pickup_datetimeDay',\n",
    "       'pickup_datetimeDayofweek', 'pickup_datetimeDayofyear',\n",
    "       'pickup_datetimehour', 'pickup_datetimeElapsed', 'Herv_Dist']"
   ]
  },
  {
   "cell_type": "code",
   "execution_count": 10,
   "metadata": {
    "_uuid": "9cc6565c87bcf618fe42b6dc03085b87bff9d8a3"
   },
   "outputs": [
    {
     "data": {
      "text/html": [
       "<div>\n",
       "<style scoped>\n",
       "    .dataframe tbody tr th:only-of-type {\n",
       "        vertical-align: middle;\n",
       "    }\n",
       "\n",
       "    .dataframe tbody tr th {\n",
       "        vertical-align: top;\n",
       "    }\n",
       "\n",
       "    .dataframe thead th {\n",
       "        text-align: right;\n",
       "    }\n",
       "</style>\n",
       "<table border=\"1\" class=\"dataframe\">\n",
       "  <thead>\n",
       "    <tr style=\"text-align: right;\">\n",
       "      <th></th>\n",
       "      <th>pickup_longitude</th>\n",
       "      <th>pickup_latitude</th>\n",
       "      <th>dropoff_longitude</th>\n",
       "      <th>dropoff_latitude</th>\n",
       "      <th>passenger_count</th>\n",
       "      <th>pickup_datetimeYear</th>\n",
       "      <th>pickup_datetimeMonth</th>\n",
       "      <th>pickup_datetimeWeek</th>\n",
       "      <th>pickup_datetimeDay</th>\n",
       "      <th>pickup_datetimeDayofweek</th>\n",
       "      <th>pickup_datetimeDayofyear</th>\n",
       "      <th>pickup_datetimehour</th>\n",
       "      <th>pickup_datetimeElapsed</th>\n",
       "      <th>Herv_Dist</th>\n",
       "    </tr>\n",
       "  </thead>\n",
       "  <tbody>\n",
       "    <tr>\n",
       "      <th>0</th>\n",
       "      <td>-73.973320</td>\n",
       "      <td>40.763805</td>\n",
       "      <td>-73.981430</td>\n",
       "      <td>40.743835</td>\n",
       "      <td>1</td>\n",
       "      <td>2015</td>\n",
       "      <td>1</td>\n",
       "      <td>5</td>\n",
       "      <td>27</td>\n",
       "      <td>1</td>\n",
       "      <td>27</td>\n",
       "      <td>13</td>\n",
       "      <td>1422364104</td>\n",
       "      <td>2.323260</td>\n",
       "    </tr>\n",
       "    <tr>\n",
       "      <th>1</th>\n",
       "      <td>-73.986862</td>\n",
       "      <td>40.719383</td>\n",
       "      <td>-73.998886</td>\n",
       "      <td>40.739201</td>\n",
       "      <td>1</td>\n",
       "      <td>2015</td>\n",
       "      <td>1</td>\n",
       "      <td>5</td>\n",
       "      <td>27</td>\n",
       "      <td>1</td>\n",
       "      <td>27</td>\n",
       "      <td>13</td>\n",
       "      <td>1422364104</td>\n",
       "      <td>2.425353</td>\n",
       "    </tr>\n",
       "    <tr>\n",
       "      <th>2</th>\n",
       "      <td>-73.982524</td>\n",
       "      <td>40.751260</td>\n",
       "      <td>-73.979654</td>\n",
       "      <td>40.746139</td>\n",
       "      <td>1</td>\n",
       "      <td>2011</td>\n",
       "      <td>10</td>\n",
       "      <td>40</td>\n",
       "      <td>8</td>\n",
       "      <td>5</td>\n",
       "      <td>281</td>\n",
       "      <td>11</td>\n",
       "      <td>1318074824</td>\n",
       "      <td>0.618628</td>\n",
       "    </tr>\n",
       "    <tr>\n",
       "      <th>3</th>\n",
       "      <td>-73.981160</td>\n",
       "      <td>40.767807</td>\n",
       "      <td>-73.990448</td>\n",
       "      <td>40.751635</td>\n",
       "      <td>1</td>\n",
       "      <td>2012</td>\n",
       "      <td>12</td>\n",
       "      <td>48</td>\n",
       "      <td>1</td>\n",
       "      <td>5</td>\n",
       "      <td>336</td>\n",
       "      <td>21</td>\n",
       "      <td>1354396332</td>\n",
       "      <td>1.961032</td>\n",
       "    </tr>\n",
       "    <tr>\n",
       "      <th>4</th>\n",
       "      <td>-73.966046</td>\n",
       "      <td>40.789775</td>\n",
       "      <td>-73.988565</td>\n",
       "      <td>40.744427</td>\n",
       "      <td>1</td>\n",
       "      <td>2012</td>\n",
       "      <td>12</td>\n",
       "      <td>48</td>\n",
       "      <td>1</td>\n",
       "      <td>5</td>\n",
       "      <td>336</td>\n",
       "      <td>21</td>\n",
       "      <td>1354396332</td>\n",
       "      <td>5.387301</td>\n",
       "    </tr>\n",
       "  </tbody>\n",
       "</table>\n",
       "</div>"
      ],
      "text/plain": [
       "   pickup_longitude    ...      Herv_Dist\n",
       "0        -73.973320    ...       2.323260\n",
       "1        -73.986862    ...       2.425353\n",
       "2        -73.982524    ...       0.618628\n",
       "3        -73.981160    ...       1.961032\n",
       "4        -73.966046    ...       5.387301\n",
       "\n",
       "[5 rows x 14 columns]"
      ]
     },
     "execution_count": 10,
     "metadata": {},
     "output_type": "execute_result"
    }
   ],
   "source": [
    "df_test[feature_cols].head()"
   ]
  },
  {
   "cell_type": "code",
   "execution_count": 11,
   "metadata": {
    "_uuid": "7509e187cb0dad85e69ce8c8c88aaeed96b28834"
   },
   "outputs": [],
   "source": [
    "##Mean and sigma for scaling\n",
    "mu=np.array([ -7.39752352e+01,   4.07510864e+01,  -7.39743620e+01,\n",
    "         4.07514412e+01,   1.69111912e+00,   2.01173779e+03,\n",
    "         6.26937910e+00,   2.54649417e+01,   1.57119467e+01,\n",
    "         3.04109087e+00,   1.75307310e+02,   1.35101716e+01,\n",
    "         1.33224990e+09,   3.34143936e+00])\n",
    "sigma=np.array([  4.26467712e-02,   3.18110081e-02,   4.13962939e-02,\n",
    "         3.48417371e-02,   1.30694141e+00,   1.86550121e+00,\n",
    "         3.43641982e+00,   1.49473195e+01,   8.68516050e+00,\n",
    "         1.94912410e+00,   1.04798866e+02,   6.51677611e+00,\n",
    "         5.84916113e+07,   4.08371701e+00])"
   ]
  },
  {
   "cell_type": "code",
   "execution_count": 12,
   "metadata": {
    "_uuid": "ed8118dca146f69aeade7671c4f7fbfe7b626f70"
   },
   "outputs": [],
   "source": [
    "x_test_unscl=df_test[feature_cols].values"
   ]
  },
  {
   "cell_type": "code",
   "execution_count": 13,
   "metadata": {
    "_uuid": "66ad2992cfe9c74b8c477f1b9c1a21618a5a8ce2"
   },
   "outputs": [],
   "source": [
    "x_test=(x_test_unscl-mu)/sigma"
   ]
  },
  {
   "cell_type": "markdown",
   "metadata": {
    "_uuid": "2a1dc1c2e803eb2f2a99f0b787bbb3402ffc55a6"
   },
   "source": [
    "DNN Network"
   ]
  },
  {
   "cell_type": "code",
   "execution_count": 14,
   "metadata": {
    "_uuid": "8f5a176677775a081d58beac6cd68481ab73bde8"
   },
   "outputs": [],
   "source": [
    "tf.reset_default_graph()\n",
    "n_inputs=14\n",
    "n_outputs=1"
   ]
  },
  {
   "cell_type": "code",
   "execution_count": 15,
   "metadata": {
    "_uuid": "d55d88b1f6cf9d0a4f53ac5ded9880cd03c8d916"
   },
   "outputs": [],
   "source": [
    "X=tf.placeholder(tf.float32,shape=(None,n_inputs),name=\"X\")\n",
    "y=tf.placeholder(tf.float32,shape=(None,1),name='y')\n",
    "training=tf.placeholder_with_default(False,shape=(),name='training')"
   ]
  },
  {
   "cell_type": "code",
   "execution_count": 16,
   "metadata": {
    "_uuid": "032ab5fb399720d0d3474e4b62f704f62239d5de"
   },
   "outputs": [],
   "source": [
    "with tf.name_scope(\"dnn\"):\n",
    "    y_pred=tf.layers.dense(dnn(X,training),n_outputs,name=\"Outputs\",kernel_initializer=he_init,activation=tf.nn.relu)"
   ]
  },
  {
   "cell_type": "code",
   "execution_count": 17,
   "metadata": {
    "_uuid": "9bd1ecd4ed5a77822cd93066540f91b674fe5808"
   },
   "outputs": [],
   "source": [
    "with tf.name_scope(\"loss\"):\n",
    "\n",
    "    error=y_pred-y\n",
    "    mse=tf.reduce_mean(tf.square(error),name='MSE')"
   ]
  },
  {
   "cell_type": "code",
   "execution_count": 18,
   "metadata": {
    "_uuid": "bb541530c1523b2be2267a93e4b055e3cd8828b0"
   },
   "outputs": [],
   "source": [
    "l_rate=0.0001\n",
    "with tf.name_scope(\"train\"):\n",
    "\n",
    "    optimizer=tf.train.AdamOptimizer(learning_rate=l_rate)\n",
    "    t_op=optimizer.minimize(mse)"
   ]
  },
  {
   "cell_type": "code",
   "execution_count": 19,
   "metadata": {
    "_uuid": "5454116e849a65021e811dbcc506fbeddad1a30c"
   },
   "outputs": [],
   "source": [
    "init=tf.global_variables_initializer()\n",
    "saver=tf.train.Saver()"
   ]
  },
  {
   "cell_type": "code",
   "execution_count": 20,
   "metadata": {
    "_uuid": "e4404aa73df18d45fa62146ebf13ecc017dec582"
   },
   "outputs": [],
   "source": [
    "sess=tf.InteractiveSession()\n",
    "sess.run(init)"
   ]
  },
  {
   "cell_type": "code",
   "execution_count": 21,
   "metadata": {
    "_uuid": "675b0868bb17fd2508c5a4e165593681d85504a9"
   },
   "outputs": [
    {
     "name": "stdout",
     "output_type": "stream",
     "text": [
      "INFO:tensorflow:Restoring parameters from ../input/dnn-model/model_.ckpt\n"
     ]
    }
   ],
   "source": [
    "saver.restore(sess,'../input/dnn-model/model_.ckpt')"
   ]
  },
  {
   "cell_type": "code",
   "execution_count": 22,
   "metadata": {
    "_uuid": "9df1c4dbd90ce14f5e2b3aeba267df8e7f77406a"
   },
   "outputs": [],
   "source": [
    "y_test=y_pred.eval(feed_dict={X:x_test})"
   ]
  },
  {
   "cell_type": "code",
   "execution_count": 23,
   "metadata": {
    "_uuid": "44c12d4c67071f5f0100db6608cd9699f5d22a7d"
   },
   "outputs": [],
   "source": [
    "sess.close()"
   ]
  },
  {
   "cell_type": "code",
   "execution_count": 24,
   "metadata": {
    "_uuid": "ffb18f8295fca47ce02266cb1aec4d1673849720"
   },
   "outputs": [],
   "source": [
    "my_submission =pd.DataFrame(np.concatenate((df_test['key'].values.reshape(-1,1),y_test),axis=1),columns=['key','fare_amount'])"
   ]
  },
  {
   "cell_type": "code",
   "execution_count": 25,
   "metadata": {
    "_uuid": "5c8ad968f2af7f65501035d1825dbdc5a098315c"
   },
   "outputs": [],
   "source": [
    "my_submission.to_csv('submission.csv', index=False)"
   ]
  },
  {
   "cell_type": "code",
   "execution_count": 26,
   "metadata": {
    "_uuid": "bf05a837cb9d51e9e4cc43676abbd16e628cb9f0"
   },
   "outputs": [
    {
     "data": {
      "text/plain": [
       "array([[ 9.073902],\n",
       "       [10.794902],\n",
       "       [ 5.012144],\n",
       "       ...,\n",
       "       [55.461636],\n",
       "       [21.122755],\n",
       "       [ 7.738399]], dtype=float32)"
      ]
     },
     "execution_count": 26,
     "metadata": {},
     "output_type": "execute_result"
    }
   ],
   "source": [
    "y_test"
   ]
  },
  {
   "cell_type": "code",
   "execution_count": 27,
   "metadata": {
    "_uuid": "af5ca4fc189d15b49fea01c320ebc7e4644bba4b"
   },
   "outputs": [],
   "source": []
  }
 ],
 "metadata": {
  "kernelspec": {
   "display_name": "Python 3",
   "language": "python",
   "name": "python3"
  },
  "language_info": {
   "codemirror_mode": {
    "name": "ipython",
    "version": 3
   },
   "file_extension": ".py",
   "mimetype": "text/x-python",
   "name": "python",
   "nbconvert_exporter": "python",
   "pygments_lexer": "ipython3",
   "version": "3.6.6"
  }
 },
 "nbformat": 4,
 "nbformat_minor": 1
}
